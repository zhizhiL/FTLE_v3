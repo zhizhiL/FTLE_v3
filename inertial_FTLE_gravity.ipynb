{
 "cells": [
  {
   "cell_type": "code",
   "execution_count": 1,
   "metadata": {},
   "outputs": [],
   "source": [
    "'''\n",
    "This notebook will output a dataset .npy of Lagrangian particle flow map\n",
    "Total particle number : Nx x Ny\n",
    "Finite Time interval : t0 --> t0 + T (trajectory data during this T will not be saved)\n",
    "Output variable : 2D numpy array of tuples;\n",
    "                  Each tuple (x0, y0, x1, y1) stores initial and final positions of a Lagrangian particle,\n",
    "                  i.e. r(t0) = (x0, y0) and r(t0+T) = (x1, y1)\n",
    "''' \n",
    "\n",
    "\n",
    "import numpy as np\n",
    "import matplotlib.pyplot as plt\n",
    "from math import sin, cos, pi\n",
    "\n",
    "from scipy import integrate\n",
    "import scipy as sp"
   ]
  },
  {
   "cell_type": "code",
   "execution_count": 19,
   "metadata": {},
   "outputs": [],
   "source": [
    "### create flow domain \n",
    "# there are same number of Lagrangian and Eulerian grid points (Nx, Ny)\n",
    "Lx, Ly = (2, 1)\n",
    "Nx, Ny = (141, 71)\n",
    "x = np.linspace(0,Lx,Nx)\n",
    "y = np.linspace(0,Ly,Ny)\n",
    "X, Y = np.meshgrid(x,y)\n",
    "dx = Lx/(Nx-1)\n",
    "dy = dx\n",
    "\n",
    "t0 = 0\n",
    "tf = 0.3"
   ]
  },
  {
   "cell_type": "code",
   "execution_count": 20,
   "metadata": {},
   "outputs": [],
   "source": [
    "### compute a double gyro flow field\n",
    "\n",
    "# flow parameters\n",
    "A = 0.1\n",
    "eps = 0.25\n",
    "omega = pi\n",
    "\n",
    "# flow streamline\n",
    "a = lambda t: eps * np.sin(omega * t)\n",
    "b = lambda t: 1 - 2 * a(t)\n",
    "fxt = lambda x, t: a(t) * (x**2) + b(t) * x\n",
    "psi = lambda x,y,t: A * np.sin(np.pi*fxt(x,t)) * np.sin(np.pi*y)\n",
    "\n",
    "# flow velocity field (need to sort out the signs!!)\n",
    "U = lambda x,y,t: -A*np.pi * np.sin(np.pi*fxt(x,t)) * np.cos(np.pi*y)\n",
    "V = lambda x,y,t: A*np.pi * np.cos(np.pi*fxt(x,t)) * np.sin(np.pi*y) * (2*a(t)*x + b(t))\n",
    "\n",
    "# # visualise flow field at t0\n",
    "# t0 = 0\n",
    "# fig, ax = plt.subplots(layout='constrained')\n",
    "# CS = ax.contourf(X, Y, V(X,Y,3), 50)\n",
    "# ax.set_aspect('equal')\n",
    "# fig.colorbar(CS)"
   ]
  },
  {
   "cell_type": "code",
   "execution_count": 23,
   "metadata": {},
   "outputs": [],
   "source": [
    "#### compute particle trajectories\n",
    "\n",
    "# inertial particle parameters in the MR equation\n",
    "St = 1\n",
    "R = 0\n",
    "W = 5\n",
    "\n",
    "\n",
    "# Solve the IVP RK4 -- for inertial particles\n",
    "def solve_ivp_active(Lag_point, t0 = t0, tf = tf):\n",
    "  '''\n",
    "  Assuming that the inertial particles follow flow field before integrating path, i.e. only released at t0\n",
    "  '''\n",
    "  \n",
    "  # define the IVP to solve -- for INERTIAL particles\n",
    "\n",
    "  t_span = np.linspace(t0,tf,500)\n",
    "\n",
    "  def active_tracer_traj(t, Z) :\n",
    "    # state-space vector Z[2] is vx, Z[3] is vy\n",
    "      # compute flow field at particle position (xp, yp)\n",
    "      xp = Z[0]\n",
    "      yp = Z[1]\n",
    "      a = eps * np.sin(omega * t)\n",
    "      b = 1 - 2 * eps * np.sin(omega * t)\n",
    "      fxt = a*(xp**2) + b*xp\n",
    "      dfdt = (xp**2) * eps * omega * np.cos(omega * t) -2* xp *  eps * omega * np.cos(omega * t)\n",
    "      dfdx = 2*a*xp + b\n",
    "      Uf = -A*np.pi * np.sin(np.pi*fxt) * np.cos(np.pi*yp)\n",
    "      Vf = A*np.pi * np.cos(np.pi*fxt) * np.sin(np.pi*yp) * dfdx\n",
    "      dUdt = -A*(np.pi**2) * np.cos(np.pi*fxt) * np.cos(np.pi*yp) * dfdt\n",
    "      dVdt = A*np.pi * np.sin(np.pi*yp) * ( -np.pi*np.sin(np.pi*fxt)*dfdt*dfdx + np.cos(np.pi*fxt) * (2*xp*eps*omega*np.cos(omega * t) - 2*eps*omega*np.cos(omega * t)) )\n",
    "      dUdx = -A*(np.pi**2) * np.cos(np.pi*fxt) * np.cos(np.pi*yp) * dfdx\n",
    "      dUdy = A*(np.pi**2) * np.sin(np.pi*fxt) * np.sin(np.pi*yp)\n",
    "      dVdx = A*np.pi * np.sin(np.pi*yp) * ( -np.pi*np.sin(np.pi*fxt)*(dfdx**2) + np.cos(np.pi*fxt) * (2*a) )\n",
    "      dVdy = A*(np.pi**2) * np.cos(np.pi*fxt) * np.cos(np.pi*yp) * dfdx\n",
    "\n",
    "\n",
    "\n",
    "      # define derivatives\n",
    "      dxpdt = Z[2]  # vx\n",
    "      dypdt = Z[3]  # vy\n",
    "      ddxpdtt = (Uf - dxpdt)/St + (3*R/2) * (dUdt + Uf*dUdx + Vf*dUdy)\n",
    "      ddypdtt = (Vf - dypdt)/St + (3*R/2) * (dVdt + Uf*dVdx + Vf*dVdy) - W\n",
    "      return [dxpdt, dypdt, ddxpdtt, ddypdtt]\n",
    "\n",
    "\n",
    "  x0, y0 = Lag_point\n",
    "  sol = sp.integrate.solve_ivp(active_tracer_traj, [t0, tf], [x0, y0, U(x0,y0,t=t0), V(x0,y0,t=t0)], t_eval=t_span, vectorized=True)\n",
    "  xpt, ypt = sol.y[0], sol.y[1]\n",
    "  return xpt, ypt\n",
    "\n",
    "  \n",
    "  "
   ]
  },
  {
   "cell_type": "code",
   "execution_count": null,
   "metadata": {},
   "outputs": [],
   "source": [
    "# t = 3\n",
    "# import sympy as sp\n",
    "\n",
    "# # Define symbols\n",
    "# x, y, t, A, eps, omega = sp.symbols('x y t A eps omega')\n",
    "\n",
    "# # Define a(t) and b(t)\n",
    "# a_t = eps * sp.sin(omega * t)\n",
    "# b_t = 1 - 2 * eps * sp.sin(omega * t)\n",
    "\n",
    "# # Define f(x, t)\n",
    "# f_x_t = a_t * x**2 + b_t * x\n",
    "\n",
    "# # Define psi(x, y, t)\n",
    "# psi_sym = A * sp.sin(sp.pi * f_x_t) * sp.sin(sp.pi * y)\n",
    "\n",
    "# # flow velocity field Uf(x,y,t) and Vf(x,y,t)\n",
    "# Uf_sym = -sp.diff(psi_sym, y)\n",
    "# Vf_sym = sp.diff(psi_sym, x)\n",
    "\n",
    "# psi = psi_sym.subs({A: A, eps: eps, omega: omega, x: sp.Matrix(X), y:sp.Matrix(Y), t: 3})\n"
   ]
  },
  {
   "cell_type": "code",
   "execution_count": 24,
   "metadata": {},
   "outputs": [],
   "source": [
    "### compute the INTERTIAL particle flow map in the whole domain\n",
    "\n",
    "# create a flattened array of grid points, first index is x\n",
    "grid_coords = np.column_stack((X.ravel(), Y.ravel()))\n",
    "final_coords = np.empty_like(grid_coords, dtype=object)\n",
    "\n",
    "\n",
    "# ## the slow version\n",
    "# for i, point in enumerate(grid_coords):\n",
    "#     x0, y0 = grid_coords[i, 0], grid_coords[i, 1]\n",
    "#     rt = solve_ivp_active((x0, y0), 0, 15)\n",
    "#     final_coords[i,:] = rt[0][-1], rt[1][-1]\n",
    "\n",
    "\n",
    "## using multiprocessing\n",
    "'''\n",
    "output [res], a list with len = Nx*Ny, \n",
    "each list element is an array of t_span for one particle\n",
    "'''\n",
    "from multiprocessing import Pool\n",
    "\n",
    "n_proc = 12\n",
    "with Pool(n_proc) as pool:\n",
    "    args = list( grid_coords )\n",
    "    res = pool.map( solve_ivp_active, args )\n",
    "\n",
    "final_coords = np.array([(point[0][-1], point[1][-1]) for point in res], dtype=float)\n",
    "\n",
    "\n",
    "\n",
    "## construct flow map of positions at t0 and tf\n",
    "flow_map = np.column_stack((grid_coords, final_coords))\n",
    "# np.save('inertial_flow_map.npy', flow_map)\n"
   ]
  },
  {
   "cell_type": "code",
   "execution_count": 25,
   "metadata": {},
   "outputs": [],
   "source": [
    "np.save(f'inertialGravW{W}_flow_map_w{omega/np.pi}_{tf}_St{St}_R{R}.npy', flow_map)"
   ]
  },
  {
   "cell_type": "code",
   "execution_count": null,
   "metadata": {},
   "outputs": [],
   "source": [
    "\n",
    "# grid_coords = np.column_stack((X.ravel(), Y.ravel()))\n",
    "# final_coords = np.empty_like(grid_coords, dtype=object)\n",
    "# from multiprocessing import Pool\n",
    "# with Pool( 12 ) as pool:\n",
    "#     args = list( grid_coords )\n",
    "#     res = pool.map( solve_ivp_active, args )\n",
    "# res = np.array( res )\n"
   ]
  },
  {
   "cell_type": "code",
   "execution_count": null,
   "metadata": {},
   "outputs": [],
   "source": [
    "# res.shape\n",
    "# # final_coords = res[:,:,-1]\n",
    "# final_coords = res.copy()\n",
    "# flow_map = np.column_stack((grid_coords, final_coords))"
   ]
  },
  {
   "cell_type": "code",
   "execution_count": null,
   "metadata": {},
   "outputs": [],
   "source": [
    "\n",
    "# flow_map = np.column_stack((grid_coords, final_coords))\n",
    "# final_coords[i,:] = rt[0][-1], rt[1][-1]\n"
   ]
  },
  {
   "cell_type": "code",
   "execution_count": 26,
   "metadata": {},
   "outputs": [],
   "source": [
    "# this is a 3D array and the first two indicies are the particle \"Name\" (defined by its initial position)\n",
    "flow_map_arr = np.array([tuple(row) for row in flow_map]).reshape((Ny, Nx, 4))\n",
    "X0 = flow_map_arr[:,:,0]\n",
    "Y0 = flow_map_arr[:,:,1]\n",
    "Xf = flow_map_arr[:,:,2]\n",
    "Yf = flow_map_arr[:,:,3]"
   ]
  },
  {
   "cell_type": "code",
   "execution_count": 27,
   "metadata": {},
   "outputs": [],
   "source": [
    "def compute_ftle(xi, yj, t0, tf):\n",
    "\n",
    "    \"\"\"\n",
    "    the arguments xi, yj are indices, not coordinates\n",
    "    \"\"\"\n",
    "\n",
    "    D = np.zeros((2,2))   # 2D deformation gradient matrix\n",
    "    D[0,0] = (Xf[yj, xi+1] - Xf[yj, xi-1]) / (X0[yj, xi+1] - X0[yj, xi-1])\n",
    "    D[0,1] = (Xf[yj+1, xi] - Xf[yj-1, xi]) / (Y0[yj+1, xi] - Y0[yj-1, xi])\n",
    "    D[1,0] = (Yf[yj, xi+1] - Yf[yj, xi-1]) / (X0[yj, xi+1] - X0[yj, xi-1])\n",
    "    D[1,1] = (Yf[yj+1, xi] - Yf[yj-1, xi]) / (Y0[yj+1, xi] - Y0[yj-1, xi])\n",
    "\n",
    "    CGDtensor = D.T @ D # symmetric square real matrix must have orthogonal eigenvectors,  the SV's are the absolute values of the eigenvalues\n",
    "    # _, SV, _ = np.linalg.svd(CGDtensor, hermitian=True)\n",
    "\n",
    "    _, SV, _ = np.linalg.svd(D)\n",
    "\n",
    "    if SV[0] < 1:\n",
    "        SV = np.ones_like(SV)\n",
    "    else:\n",
    "        SV[1] = 1/SV[0]\n",
    "\n",
    "    ftle = np.log(SV[0]) / np.abs(tf-t0) # use the largest singular value of D\n",
    "    \n",
    "    return ftle"
   ]
  },
  {
   "cell_type": "code",
   "execution_count": 9,
   "metadata": {},
   "outputs": [],
   "source": [
    "# D = np.zeros((2,2))   # 2D deformation gradient matrix\n",
    "# D[0,0] = (Xf[yj, xi+1] - Xf[yj, xi-1]) / (X0[yj, xi+1] - X0[yj, xi-1])\n",
    "# D[0,1] = (Xf[yj+1, xi] - Xf[yj-1, xi]) / (Y0[yj+1, xi] - Y0[yj-1, xi])\n",
    "# D[1,0] = (Yf[yj, xi+1] - Yf[yj, xi-1]) / (X0[yj, xi+1] - X0[yj, xi-1])\n",
    "# D[1,1] = (Yf[yj+1, xi] - Yf[yj-1, xi]) / (Y0[yj+1, xi] - Y0[yj-1, xi])\n",
    "\n",
    "# CGDtensor = D.T @ D # symmetric square real matrix must have orthogonal eigenvectors,  the SV's are the absolute values of the eigenvalues\n",
    "# _, SV, _ = np.linalg.svd(CGDtensor, hermitian=True)\n",
    "\n",
    "# # ftle = np.log(SV[0]) / np.abs(tf-t0)\n",
    "# CGDtensor"
   ]
  },
  {
   "cell_type": "code",
   "execution_count": null,
   "metadata": {},
   "outputs": [],
   "source": [
    "# incompressibility = True\n",
    "# np.linalg.det(CGDtensor)\n",
    "# eigenvalues, _ = np.linalg.eig(CGDtensor)\n",
    "# # if incompressibility:\n",
    "\n",
    "# np.linalg.det(CGDtensor)"
   ]
  },
  {
   "cell_type": "code",
   "execution_count": 28,
   "metadata": {},
   "outputs": [
    {
     "data": {
      "image/png": "[encoded data removed]",
      "text/plain": [
       "<Figure size 640x480 with 2 Axes>"
      ]
     },
     "metadata": {},
     "output_type": "display_data"
    }
   ],
   "source": [
    "FTLE_field = np.empty((Ny-2, Nx-2))\n",
    "# FTLE_field = np.empty((Ny, Nx))\n",
    "\n",
    "\n",
    "for xi in range(Nx-2) :\n",
    "    for yj in range(Ny-2) :\n",
    "        FTLE_field[yj, xi] = compute_ftle((xi+1), (yj+1), t0, tf)\n",
    "\n",
    "# for xi in range(1, Nx-1) :\n",
    "#     for yj in range(1, Ny-1) :\n",
    "#         FTLE_field[yj, xi] = compute_ftle(xi, yj, t0, tf)\n",
    "\n",
    "\n",
    "\n",
    "fig, ax = plt.subplots(layout='constrained')\n",
    "CS = ax.contourf(X[1:-1, 1:-1], Y[1:-1, 1:-1], FTLE_field, 50)\n",
    "ax.set_aspect('equal')\n",
    "cbar = fig.colorbar(CS)"
   ]
  }
 ],
 "metadata": {
  "kernelspec": {
   "display_name": "base",
   "language": "python",
   "name": "python3"
  },
  "language_info": {
   "codemirror_mode": {
    "name": "ipython",
    "version": 3
   },
   "file_extension": ".py",
   "mimetype": "text/x-python",
   "name": "python",
   "nbconvert_exporter": "python",
   "pygments_lexer": "ipython3",
   "version": "3.9.12"
  },
  "orig_nbformat": 4
 },
 "nbformat": 4,
 "nbformat_minor": 2
}
