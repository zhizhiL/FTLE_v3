{
 "cells": [
  {
   "cell_type": "code",
   "execution_count": 24,
   "metadata": {},
   "outputs": [],
   "source": [
    "import numpy as np\n",
    "import os\n",
    "import matplotlib.pyplot as plt"
   ]
  },
  {
   "cell_type": "code",
   "execution_count": 35,
   "metadata": {},
   "outputs": [],
   "source": [
    "### create flow domain \n",
    "# there are same number of Lagrangian and Eulerian grid points (Nx, Ny)\n",
    "Lx, Ly = (2, 1)\n",
    "Nx, Ny = (141, 71)\n",
    "x = np.linspace(0,Lx,Nx)\n",
    "y = np.linspace(0,Ly,Ny)\n",
    "X, Y = np.meshgrid(x,y)\n",
    "dx = Lx/(Nx-1)\n",
    "dy = dx\n",
    "\n",
    "t0 = 0\n",
    "tf = 0.3\n",
    "St = 1\n",
    "R = 0\n",
    "omega = np.pi\n",
    "W = 5\n",
    "\n",
    "### open and load flow map datasets\n",
    "# file_path = f'inertial_flow_map_w{omega/np.pi}_{tf}_St{St}_R{R}.npy'\n",
    "file_path = f'inertialGravW{W}_flow_map_w{omega/np.pi}_{tf}_St{St}_R{R}.npy'\n",
    "if os.path.exists(file_path):\n",
    "    flow_map = np.load(file_path, allow_pickle=True)\n",
    "else:\n",
    "    raise FileNotFoundError(f\"The file '{file_path}' does not exist.\")\n",
    "\n"
   ]
  },
  {
   "cell_type": "code",
   "execution_count": 36,
   "metadata": {},
   "outputs": [],
   "source": [
    "Xf = flow_map[:,2]\n",
    "Yf = flow_map[:,3]\n",
    "\n",
    "# Xf_on_grid = [np.min(abs())]\n",
    "# Xf_on_grid = np.asarray([x[np.argmin(abs(Xf[i] - x))] for i in range(len(Xf))], dtype=float)\n",
    "# Yf_on_grid = np.asarray([y[np.argmin(abs(Yf[i] - x))] for i in range(len(Yf))], dtype=float)\n",
    "\n",
    "# note that these two arrays store the INDEX of x, y coordinates\n",
    "Xf_on_grid = np.asarray([np.argmin(abs(Xf[i] - x)) for i in range(len(Xf))], dtype=int)\n",
    "Yf_on_grid = np.asarray([np.argmin(abs(Yf[i] - y)) for i in range(len(Yf))], dtype=int)\n",
    "XYf_on_grid = np.column_stack((Xf_on_grid, Yf_on_grid))\n"
   ]
  },
  {
   "cell_type": "code",
   "execution_count": 37,
   "metadata": {},
   "outputs": [],
   "source": [
    "# build a table (dict) to store counts of each point --> concentration on each grid\n",
    "grid_points = np.column_stack((X.ravel(), Y.ravel()))\n",
    "\n",
    "concentration = {}\n",
    "\n",
    "for row in XYf_on_grid:\n",
    "    row = tuple(row)\n",
    "    if row in concentration:\n",
    "        concentration[row] += 1\n",
    "    else:\n",
    "        concentration[row] = 1"
   ]
  },
  {
   "cell_type": "code",
   "execution_count": 38,
   "metadata": {},
   "outputs": [
    {
     "data": {
      "image/png": "[encoded data removed]",
      "text/plain": [
       "<Figure size 640x480 with 1 Axes>"
      ]
     },
     "metadata": {},
     "output_type": "display_data"
    }
   ],
   "source": [
    "# visualise concentration over the grid\n",
    "heat_map = np.zeros((Ny, Nx))\n",
    "\n",
    "coordinates, intensities = zip(*concentration.items())\n",
    "x_con, y_con = zip(*coordinates)\n",
    "\n",
    "# Fill the heat_map array with the intensities based on the coordinates\n",
    "for i in range(len(coordinates)):\n",
    "    heat_map[y_con[i], x_con[i]] = intensities[i]\n",
    "\n",
    "heat_map /= np.sum(heat_map>0)\n",
    "# heat_map = heat_map/(Nx*Ny)\n",
    "# heat_map = heat_map > 0.5\n",
    "# Create a heat map plot\n",
    "\n",
    "# getting the original colormap using cm.get_cmap() function\n",
    "orig_map=plt.cm.get_cmap('gist_yarg')\n",
    "  \n",
    "# reversing the original colormap using reversed() function\n",
    "reversed_map = orig_map.reversed()\n",
    "plt.imshow(heat_map, extent=[x[0], x[-1], y[0], y[-1]], origin='lower', cmap=orig_map , interpolation='nearest')\n",
    "# plt.colorbar()\n",
    "plt.title('Heat Map')\n",
    "plt.xlabel('X Coordinate')\n",
    "plt.ylabel('Y Coordinate')\n",
    "plt.show()"
   ]
  },
  {
   "cell_type": "code",
   "execution_count": 34,
   "metadata": {},
   "outputs": [
    {
     "data": {
      "text/plain": [
       "1.7690701519708336"
      ]
     },
     "execution_count": 34,
     "metadata": {},
     "output_type": "execute_result"
    }
   ],
   "source": [
    "np.min(Yf)"
   ]
  }
 ],
 "metadata": {
  "kernelspec": {
   "display_name": "base",
   "language": "python",
   "name": "python3"
  },
  "language_info": {
   "codemirror_mode": {
    "name": "ipython",
    "version": 3
   },
   "file_extension": ".py",
   "mimetype": "text/x-python",
   "name": "python",
   "nbconvert_exporter": "python",
   "pygments_lexer": "ipython3",
   "version": "3.9.12"
  },
  "orig_nbformat": 4
 },
 "nbformat": 4,
 "nbformat_minor": 2
}
